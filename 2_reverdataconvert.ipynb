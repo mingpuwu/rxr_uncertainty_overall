{
 "cells": [
  {
   "cell_type": "code",
   "execution_count": 2,
   "metadata": {},
   "outputs": [
    {
     "name": "stdout",
     "output_type": "stream",
     "text": [
      "CH3CO+H2O2<=>CH3CHO+HO2\n",
      "current plot is  Review\n"
     ]
    }
   ],
   "source": [
    "from Utils.DataConvert import ConvertData\n",
    "from Utils.fit import Fit\n",
    "from Utils.FindReaction import FindReaction\n",
    "import math\n",
    "from Utils.Format import Format\n",
    "from Utils.GetFileDir import GetFileDir\n",
    "from Utils.GetReactionNum import GetReactionNum\n",
    "\n",
    "reactionnum = GetReactionNum()\n",
    "excelname = GetFileDir(reactionnum,'reverseexcel')\n",
    "outname = GetFileDir(reactionnum,'reversetxt')\n",
    "\n",
    "#转换web excel数据到txt文件\n",
    "ConvertData(excelname, outname, IsReverse=True)\n"
   ]
  }
 ],
 "metadata": {
  "kernelspec": {
   "display_name": "base",
   "language": "python",
   "name": "python3"
  },
  "language_info": {
   "codemirror_mode": {
    "name": "ipython",
    "version": 3
   },
   "file_extension": ".py",
   "mimetype": "text/x-python",
   "name": "python",
   "nbconvert_exporter": "python",
   "pygments_lexer": "ipython3",
   "version": "3.9.10"
  },
  "orig_nbformat": 4
 },
 "nbformat": 4,
 "nbformat_minor": 2
}
