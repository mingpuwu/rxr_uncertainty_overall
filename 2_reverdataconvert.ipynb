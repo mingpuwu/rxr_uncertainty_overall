{
 "cells": [
  {
   "cell_type": "code",
   "execution_count": 1,
   "metadata": {},
   "outputs": [
    {
     "name": "stdout",
     "output_type": "stream",
     "text": [
      "CH4+O2<=>CH3+HO2\n",
      "nan\n",
      "1992BAU/COB411-429\n",
      "1986TSA/HAM1087\n",
      "nan\n",
      "2017RYU/SHI228-236\n",
      "nan\n",
      "1999YAM/TEN8272-8278\n",
      "1978SHA1179\n",
      "1972SKI/LIF3853\n",
      "1968MAY/SCH2628-2631\n",
      "current plot is  Review\n",
      "current plot is  Experiment\n",
      "current plot is  Theory\n"
     ]
    }
   ],
   "source": [
    "from Utils.DataConvert import ConvertData\n",
    "from Utils.fit import Fit\n",
    "from Utils.FindReaction import FindReaction\n",
    "import math\n",
    "from Utils.Format import Format\n",
    "from Utils.GetFileDir import GetFileDir\n",
    "from Utils.GetReactionNum import GetReactionNum\n",
    "\n",
    "reactionnum = GetReactionNum()\n",
    "excelname = GetFileDir(reactionnum,'reverseexcel')\n",
    "outname = GetFileDir(reactionnum,'reversetxt')\n",
    "\n",
    "#转换web excel数据到txt文件\n",
    "ConvertData(excelname, outname, IsReverse=True)\n"
   ]
  }
 ],
 "metadata": {
  "kernelspec": {
   "display_name": "base",
   "language": "python",
   "name": "python3"
  },
  "language_info": {
   "codemirror_mode": {
    "name": "ipython",
    "version": 3
   },
   "file_extension": ".py",
   "mimetype": "text/x-python",
   "name": "python",
   "nbconvert_exporter": "python",
   "pygments_lexer": "ipython3",
   "version": "3.9.10"
  },
  "orig_nbformat": 4
 },
 "nbformat": 4,
 "nbformat_minor": 2
}
